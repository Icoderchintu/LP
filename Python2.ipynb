{
  "nbformat": 4,
  "nbformat_minor": 0,
  "metadata": {
    "colab": {
      "provenance": [],
      "authorship_tag": "ABX9TyOq+HPxAlXO/9RlbTk14zsx",
      "include_colab_link": true
    },
    "kernelspec": {
      "name": "python3",
      "display_name": "Python 3"
    },
    "language_info": {
      "name": "python"
    }
  },
  "cells": [
    {
      "cell_type": "markdown",
      "metadata": {
        "id": "view-in-github",
        "colab_type": "text"
      },
      "source": [
        "<a href=\"https://colab.research.google.com/github/Icoderchintu/LP/blob/Icoderchintu-patch-1/Python2.ipynb\" target=\"_parent\"><img src=\"https://colab.research.google.com/assets/colab-badge.svg\" alt=\"Open In Colab\"/></a>"
      ]
    },
    {
      "cell_type": "code",
      "execution_count": 3,
      "metadata": {
        "colab": {
          "base_uri": "https://localhost:8080/",
          "height": 293
        },
        "id": "ck962IXFzELs",
        "outputId": "3a5863bd-2668-4f8a-c284-453782943a7e"
      },
      "outputs": [
        {
          "name": "stdout",
          "output_type": "stream",
          "text": [
            "Enter name for row 1: A\n",
            "Enter date of birth for row 1: 22-06-2006\n",
            "Enter gender for row 1: Male\n",
            "Enter qualification for row 1: Int\n",
            "Enter address for row 1: Delhi\n",
            "Enter name for row 2: B\n",
            "Enter date of birth for row 2: 11+08-9860\n",
            "Enter gender for row 2: Male\n",
            "Enter qualification for row 2: Mat\n",
            "Enter address for row 2: Patna\n"
          ]
        },
        {
          "output_type": "display_data",
          "data": {
            "text/plain": [
              "<IPython.core.display.HTML object>"
            ],
            "text/html": [
              "\n",
              "  <style>\n",
              "  table {\n",
              "    border-collapse: collapse;\n",
              "    width: 100%;\n",
              "  }\n",
              "  th, td {\n",
              "    border: 1px solid black;\n",
              "    padding: 8px;\n",
              "    text-align: left;\n",
              "  }\n",
              "  th {\n",
              "    background-color: #f2f2f2;\n",
              "  }\n",
              "  </style>\n",
              "  <table>\n",
              "    <tr>\n",
              "      <th>Name</th>\n",
              "      <th>Date of Birth</th>\n",
              "      <th>Gender</th>\n",
              "      <th>Qualification</th>\n",
              "      <th>Address</th>\n",
              "    </tr>\n",
              "  <tr><td>A</td><td>22-06-2006</td><td>Male</td><td>Int</td><td>Delhi</td></tr><tr><td>B</td><td>11+08-9860</td><td>Male</td><td>Mat</td><td>Patna</td></tr></table>"
            ]
          },
          "metadata": {}
        }
      ],
      "source": [
        "# prompt: Print a 2 rows and 5 columns with the heading name,date of birth,Gender, Qualification and Address using html in python  and  take the input from user for each row except heading showing user what they have to fill in each column of respective row and add bg colour and border color too\n",
        "\n",
        "from IPython.display import HTML, display\n",
        "\n",
        "def create_table():\n",
        "  html = \"\"\"\n",
        "  <style>\n",
        "  table {\n",
        "    border-collapse: collapse;\n",
        "    width: 100%;\n",
        "  }\n",
        "  th, td {\n",
        "    border: 1px solid black;\n",
        "    padding: 8px;\n",
        "    text-align: left;\n",
        "  }\n",
        "  th {\n",
        "    background-color: #f2f2f2;\n",
        "  }\n",
        "  </style>\n",
        "  <table>\n",
        "    <tr>\n",
        "      <th>Name</th>\n",
        "      <th>Date of Birth</th>\n",
        "      <th>Gender</th>\n",
        "      <th>Qualification</th>\n",
        "      <th>Address</th>\n",
        "    </tr>\n",
        "  \"\"\"\n",
        "\n",
        "  for i in range(2):\n",
        "    name = input(\"Enter name for row {}: \".format(i+1))\n",
        "    dob = input(\"Enter date of birth for row {}: \".format(i+1))\n",
        "    gender = input(\"Enter gender for row {}: \".format(i+1))\n",
        "    qualification = input(\"Enter qualification for row {}: \".format(i+1))\n",
        "    address = input(\"Enter address for row {}: \".format(i+1))\n",
        "\n",
        "    html += \"<tr><td>{}</td><td>{}</td><td>{}</td><td>{}</td><td>{}</td></tr>\".format(name, dob, gender, qualification, address)\n",
        "\n",
        "  html += \"</table>\"\n",
        "  display(HTML(html))\n",
        "\n",
        "create_table()\n"
      ]
    }
  ]
}