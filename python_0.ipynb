{
  "nbformat": 4,
  "nbformat_minor": 0,
  "metadata": {
    "colab": {
      "provenance": [],
      "authorship_tag": "ABX9TyM1BYNHw4JZczOMo35TLwB9",
      "include_colab_link": true
    },
    "kernelspec": {
      "name": "python3",
      "display_name": "Python 3"
    },
    "language_info": {
      "name": "python"
    }
  },
  "cells": [
    {
      "cell_type": "markdown",
      "metadata": {
        "id": "view-in-github",
        "colab_type": "text"
      },
      "source": [
        "<a href=\"https://colab.research.google.com/github/Icoderchintu/LP/blob/main/python_0.ipynb\" target=\"_parent\"><img src=\"https://colab.research.google.com/assets/colab-badge.svg\" alt=\"Open In Colab\"/></a>"
      ]
    },
    {
      "cell_type": "code",
      "execution_count": 15,
      "metadata": {
        "colab": {
          "base_uri": "https://localhost:8080/"
        },
        "id": "9aPpPwVE1uok",
        "outputId": "e2a6c710-7a1b-4646-f06b-3fb3b50bc16b"
      },
      "outputs": [
        {
          "output_type": "stream",
          "name": "stdout",
          "text": [
            "My name is Chintu\n",
            "135\n",
            "area of rectangle is: 200\n",
            "Perimeter of rectangle is: 60\n"
          ]
        }
      ],
      "source": [
        "print (\"My name is Chintu\")\n",
        "print(45+90)\n",
        "#Variable : It is a name given to a memory location in a program\n",
        "l=10\n",
        "b=20\n",
        "c=l*b\n",
        "print (\"area of rectangle is:\",c)\n",
        "print (\"Perimeter of rectangle is:\",2*(l+b))\n",
        "\n",
        "\n",
        "\n"
      ]
    }
  ]
}