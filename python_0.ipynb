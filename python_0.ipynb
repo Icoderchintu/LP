{
  "nbformat": 4,
  "nbformat_minor": 0,
  "metadata": {
    "colab": {
      "provenance": [],
      "authorship_tag": "ABX9TyOHx4bxDhWucGPI13JcJe3a",
      "include_colab_link": true
    },
    "kernelspec": {
      "name": "python3",
      "display_name": "Python 3"
    },
    "language_info": {
      "name": "python"
    }
  },
  "cells": [
    {
      "cell_type": "markdown",
      "metadata": {
        "id": "view-in-github",
        "colab_type": "text"
      },
      "source": [
        "<a href=\"https://colab.research.google.com/github/Icoderchintu/LP/blob/Icoderchintu-patch-1/python_0.ipynb\" target=\"_parent\"><img src=\"https://colab.research.google.com/assets/colab-badge.svg\" alt=\"Open In Colab\"/></a>"
      ]
    },
    {
      "cell_type": "code",
      "execution_count": 3,
      "metadata": {
        "colab": {
          "base_uri": "https://localhost:8080/"
        },
        "id": "9aPpPwVE1uok",
        "outputId": "531841ad-f85b-46ac-fef0-c3beae1f19c1"
      },
      "outputs": [
        {
          "output_type": "stream",
          "name": "stdout",
          "text": [
            "My name is Chintu\n",
            "135\n",
            "area of rectangle is: 200\n",
            "Perimeter of rectangle is: 60\n",
            "<class 'int'>\n",
            "22\n",
            "-18\n",
            "40\n",
            "0.1\n",
            "2\n",
            "0\n",
            "1048576\n",
            "False\n",
            "True\n",
            "False\n",
            "True\n",
            "False\n",
            "True\n",
            "num: 108\n",
            "enter length of rectangle:78\n",
            "enter breadth of rectangle 8\n",
            "area of rectangle is: 624\n",
            "hello\n",
            "The End\n",
            "hello\n",
            "The End\n",
            "hello\n",
            "The End\n",
            "hello\n",
            "The End\n",
            "hello\n",
            "The End\n"
          ]
        },
        {
          "output_type": "execute_result",
          "data": {
            "text/plain": [
              "2.23606797749979"
            ]
          },
          "metadata": {},
          "execution_count": 3
        }
      ],
      "source": [
        "print (\"My name is Chintu\")\n",
        "print(45+90)\n",
        "#Variable : It is a name given to a memory location in a program\n",
        "l=10\n",
        "b=20\n",
        "c=l*b\n",
        "print (\"area of rectangle is:\",c)\n",
        "print (\"Perimeter of rectangle is:\",2*(l+b))\n",
        "#Data Types\n",
        "print(type(l))\n",
        "#Keywords : Reserved words in python\n",
        "# if else\n",
        "# or else\n",
        "\n",
        "#Type Of Operators\n",
        "#Arithmetic\n",
        "a=2\n",
        "\n",
        "b=20\n",
        "print(a+b)\n",
        "print (a-b)\n",
        "print(a*b)\n",
        "print(a/b)\n",
        "print(a%b)\n",
        "print(a//b)#remainder\n",
        "print(a**b)#power\n",
        "\n",
        "#Relational Operator\n",
        "print(a==b)\n",
        "print(a!=b)\n",
        "print(a>b)\n",
        "print(a<b)\n",
        "print(a>=b)\n",
        "print(a<=b)\n",
        "\n",
        "#assignment\n",
        "num =100\n",
        "num += 8\n",
        "print(\"num:\",num)\n",
        "l1=int(input(\"enter length of rectangle:\"))\n",
        "b1=int(input(\"enter breadth of rectangle \"))\n",
        "area=(l1)*int(b1)\n",
        "print (\"area of rectangle is:\",area)\n",
        "#while loop\n",
        "count = 1\n",
        "while count <= 5 :\n",
        "  print(\"hello\")\n",
        "  count += 1\n",
        "  print(\"The End\")\n",
        "import math\n",
        "math.sqrt(5)"
      ]
    }
  ]
}