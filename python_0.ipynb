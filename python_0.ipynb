{
  "nbformat": 4,
  "nbformat_minor": 0,
  "metadata": {
    "colab": {
      "provenance": [],
      "authorship_tag": "ABX9TyMmOVb5v23pMsHr+EB0ZF/U",
      "include_colab_link": true
    },
    "kernelspec": {
      "name": "python3",
      "display_name": "Python 3"
    },
    "language_info": {
      "name": "python"
    }
  },
  "cells": [
    {
      "cell_type": "markdown",
      "metadata": {
        "id": "view-in-github",
        "colab_type": "text"
      },
      "source": [
        "<a href=\"https://colab.research.google.com/github/Icoderchintu/LP/blob/main/python_0.ipynb\" target=\"_parent\"><img src=\"https://colab.research.google.com/assets/colab-badge.svg\" alt=\"Open In Colab\"/></a>"
      ]
    },
    {
      "cell_type": "code",
      "execution_count": 25,
      "metadata": {
        "colab": {
          "base_uri": "https://localhost:8080/"
        },
        "id": "9aPpPwVE1uok",
        "outputId": "729a5148-6d13-4d3d-c9bd-e3119f669bc3"
      },
      "outputs": [
        {
          "output_type": "stream",
          "name": "stdout",
          "text": [
            "My name is Chintu\n",
            "135\n",
            "area of rectangle is: 200\n",
            "Perimeter of rectangle is: 60\n",
            "<class 'int'>\n",
            "22\n",
            "-18\n",
            "40\n",
            "0.1\n",
            "2\n",
            "0\n",
            "1048576\n",
            "False\n",
            "True\n",
            "False\n",
            "True\n",
            "False\n",
            "True\n",
            "num: 108\n",
            "enter length of rectangle:78\n",
            "enter breadth of rectangle 89\n",
            "area of rectangle is: 6942\n"
          ]
        }
      ],
      "source": [
        "print (\"My name is Chintu\")\n",
        "print(45+90)\n",
        "#Variable : It is a name given to a memory location in a program\n",
        "l=10\n",
        "b=20\n",
        "c=l*b\n",
        "print (\"area of rectangle is:\",c)\n",
        "print (\"Perimeter of rectangle is:\",2*(l+b))\n",
        "#Data Types\n",
        "print(type(l))\n",
        "#Keywords : Reserved words in python\n",
        "# if else\n",
        "# or else\n",
        "\n",
        "#Type Of Operators\n",
        "#Arithmetic\n",
        "a=2\n",
        "\n",
        "b=20\n",
        "print(a+b)\n",
        "print (a-b)\n",
        "print(a*b)\n",
        "print(a/b)\n",
        "print(a%b)\n",
        "print(a//b)#remainder\n",
        "print(a**b)#power\n",
        "\n",
        "#Relational Operator\n",
        "print(a==b)\n",
        "print(a!=b)\n",
        "print(a>b)\n",
        "print(a<b)\n",
        "print(a>=b)\n",
        "print(a<=b)\n",
        "\n",
        "#assignment\n",
        "num =100\n",
        "num += 8\n",
        "print(\"num:\",num)\n",
        "l1=input(\"enter length of rectangle:\")\n",
        "b1=input(\"enter breadth of rectangle \")\n",
        "area=int(l1)*int(b1)\n",
        "print (\"area of rectangle is:\",area)\n",
        "\n"
      ]
    }
  ]
}