{
  "nbformat": 4,
  "nbformat_minor": 0,
  "metadata": {
    "colab": {
      "provenance": [],
      "authorship_tag": "ABX9TyNOtEZoQsmn60uSM0ASFLl1",
      "include_colab_link": true
    },
    "kernelspec": {
      "name": "python3",
      "display_name": "Python 3"
    },
    "language_info": {
      "name": "python"
    }
  },
  "cells": [
    {
      "cell_type": "markdown",
      "metadata": {
        "id": "view-in-github",
        "colab_type": "text"
      },
      "source": [
        "<a href=\"https://colab.research.google.com/github/Icoderchintu/LP/blob/main/python_0.ipynb\" target=\"_parent\"><img src=\"https://colab.research.google.com/assets/colab-badge.svg\" alt=\"Open In Colab\"/></a>"
      ]
    },
    {
      "cell_type": "code",
      "execution_count": 20,
      "metadata": {
        "colab": {
          "base_uri": "https://localhost:8080/"
        },
        "id": "9aPpPwVE1uok",
        "outputId": "e52ae998-d274-4325-a21a-0a5ca379787a"
      },
      "outputs": [
        {
          "output_type": "stream",
          "name": "stdout",
          "text": [
            "My name is Chintu\n",
            "135\n",
            "area of rectangle is: 200\n",
            "Perimeter of rectangle is: 60\n",
            "<class 'int'>\n",
            "22\n",
            "-18\n",
            "40\n",
            "0.1\n",
            "2\n",
            "0\n",
            "1048576\n",
            "False\n",
            "True\n",
            "False\n",
            "True\n",
            "False\n",
            "True\n"
          ]
        }
      ],
      "source": [
        "print (\"My name is Chintu\")\n",
        "print(45+90)\n",
        "#Variable : It is a name given to a memory location in a program\n",
        "l=10\n",
        "b=20\n",
        "c=l*b\n",
        "print (\"area of rectangle is:\",c)\n",
        "print (\"Perimeter of rectangle is:\",2*(l+b))\n",
        "#Data Types\n",
        "print(type(l))\n",
        "#Keywords : Reserved words in python\n",
        "# if else\n",
        "# or else\n",
        "\n",
        "#Type Of Operators\n",
        "#Arithmetic\n",
        "a=2\n",
        "\n",
        "b=20\n",
        "print(a+b)\n",
        "print (a-b)\n",
        "print(a*b)\n",
        "print(a/b)\n",
        "print(a%b)\n",
        "print(a//b)#remainder\n",
        "print(a**b)#power\n",
        "\n",
        "#Relational Operator\n",
        "print(a==b)\n",
        "print(a!=b)\n",
        "print(a>b)\n",
        "print(a<b)\n",
        "print(a>=b)\n",
        "print(a<=b)\n",
        "\n",
        "\n",
        "\n",
        "\n"
      ]
    }
  ]
}