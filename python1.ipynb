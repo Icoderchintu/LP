{
  "nbformat": 4,
  "nbformat_minor": 0,
  "metadata": {
    "colab": {
      "provenance": [],
      "authorship_tag": "ABX9TyMGMXdgrhp8471Ene4seeWX",
      "include_colab_link": true
    },
    "kernelspec": {
      "name": "python3",
      "display_name": "Python 3"
    },
    "language_info": {
      "name": "python"
    }
  },
  "cells": [
    {
      "cell_type": "markdown",
      "metadata": {
        "id": "view-in-github",
        "colab_type": "text"
      },
      "source": [
        "<a href=\"https://colab.research.google.com/github/Icoderchintu/LP/blob/main/python1.ipynb\" target=\"_parent\"><img src=\"https://colab.research.google.com/assets/colab-badge.svg\" alt=\"Open In Colab\"/></a>"
      ]
    },
    {
      "cell_type": "code",
      "execution_count": 5,
      "metadata": {
        "colab": {
          "base_uri": "https://localhost:8080/"
        },
        "id": "W_Ct0AOcts_I",
        "outputId": "a870d673-35bb-47f4-ddc1-50b08373ec22"
      },
      "outputs": [
        {
          "output_type": "stream",
          "name": "stdout",
          "text": [
            "Enter your name: Aman Bharti\n",
            "Enter your date of birth (YYYY-MM-DD): 2006-08-25\n",
            "Enter your class: 12\n",
            "Enter your section: A\n",
            "Enter marks obtained in Physics (out of 100): 99\n",
            "Enter marks obtained in Chemistry (out of 100): 98\n",
            "Enter marks obtained in Maths (out of 100): 99\n",
            "Enter marks obtained in Biology (out of 100): 100\n",
            "\n",
            "--- Student Information ---\n",
            "Name: Aman Bharti\n",
            "Age: 18\n",
            "Class: 12\n",
            "Section: A\n",
            "\n",
            "Marks Obtained:\n",
            "Physics: 99\n",
            "Chemistry: 98\n",
            "Maths: 99\n",
            "Biology: 100\n",
            "\n",
            "Total Marks: 396\n",
            "Percentage: 99.0 %\n"
          ]
        }
      ],
      "source": [
        "# prompt: Take input from user of his name,age(ask the date of birth and then calculate the age),class, Section,Marks out of hundred in physics, chemistry, maths, biology and calculate percentage obtained by him and marks obtained in each subject and print the output in table\n",
        "\n",
        "\n",
        "from datetime import date\n",
        "\n",
        "name = input(\"Enter your name: \")\n",
        "dob_str = input(\"Enter your date of birth (YYYY-MM-DD): \")\n",
        "dob = date.fromisoformat(dob_str)\n",
        "today = date.today()\n",
        "age = today.year - dob.year - ((today.month, today.day) < (dob.month, dob.day))\n",
        "\n",
        "class_name = input(\"Enter your class: \")\n",
        "section = input(\"Enter your section: \")\n",
        "\n",
        "physics_marks = int(input(\"Enter marks obtained in Physics (out of 100): \"))\n",
        "chemistry_marks = int(input(\"Enter marks obtained in Chemistry (out of 100): \"))\n",
        "maths_marks = int(input(\"Enter marks obtained in Maths (out of 100): \"))\n",
        "biology_marks = int(input(\"Enter marks obtained in Biology (out of 100): \"))\n",
        "\n",
        "total_marks = physics_marks + chemistry_marks + maths_marks + biology_marks\n",
        "percentage = (total_marks / 400) * 100\n",
        "\n",
        "print(\"\\n--- Student Information ---\")\n",
        "print(\"Name:\", name)\n",
        "print(\"Age:\", age)\n",
        "print(\"Class:\", class_name)\n",
        "print(\"Section:\", section)\n",
        "print(\"\\nMarks Obtained:\")\n",
        "print(\"Physics:\", physics_marks)\n",
        "print(\"Chemistry:\", chemistry_marks)\n",
        "print(\"Maths:\", maths_marks)\n",
        "print(\"Biology:\", biology_marks)\n",
        "print(\"\\nTotal Marks:\", total_marks)\n",
        "print(\"Percentage:\", percentage, \"%\")\n"
      ]
    }
  ]
}